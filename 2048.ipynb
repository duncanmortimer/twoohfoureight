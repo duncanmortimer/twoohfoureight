{
 "cells": [
  {
   "cell_type": "code",
   "execution_count": null,
   "metadata": {},
   "outputs": [],
   "source": [
    "import numpy as np\n",
    "import matplotlib as mpl\n",
    "import matplotlib.pyplot as plt"
   ]
  },
  {
   "cell_type": "code",
   "execution_count": null,
   "metadata": {},
   "outputs": [],
   "source": [
    "def identity(a): return a\n",
    "def rotCW(a): return np.fliplr(a.T)\n",
    "def rotCCW(a): return np.flipud(a.T)"
   ]
  },
  {
   "cell_type": "code",
   "execution_count": null,
   "metadata": {},
   "outputs": [],
   "source": [
    "moves = {\n",
    "    \"left\": [identity, identity],\n",
    "    \"up\": [rotCCW, rotCW],\n",
    "    \"right\": [np.fliplr, np.fliplr],\n",
    "    \"down\": [rotCW, rotCCW]\n",
    "}"
   ]
  },
  {
   "cell_type": "code",
   "execution_count": null,
   "metadata": {},
   "outputs": [],
   "source": [
    "def nextState(state, move):\n",
    "    transform, invTransform = moves[move]\n",
    "    nst = np.copy(transform(state))\n",
    "    nst = nst[np.indices((4,4))[0], np.argsort(nst==0)]\n",
    "    for ind in range(3):\n",
    "        cmp = (nst[:, ind] == nst[:, ind+1]) * (nst[:, ind] > 0)\n",
    "        nst[:, ind] += cmp\n",
    "        nst[cmp, ind+1] = -1\n",
    "    nst = nst[np.indices((4,4))[0], np.argsort(nst == -1)]\n",
    "    nst[nst==-1] = 0\n",
    "    return invTransform(nst)"
   ]
  },
  {
   "cell_type": "code",
   "execution_count": null,
   "metadata": {},
   "outputs": [],
   "source": [
    "def perturb(state):\n",
    "    zeros = np.argwhere(state == 0)\n",
    "    if len(zeros) > 0:\n",
    "        nst = np.copy(state)\n",
    "        loc = np.random.randint(zeros.shape[0])\n",
    "        row, col = zeros[loc, :]\n",
    "        nst[row, col] = 1\n",
    "        return nst\n",
    "    else:\n",
    "        return state"
   ]
  },
  {
   "cell_type": "code",
   "execution_count": null,
   "metadata": {},
   "outputs": [],
   "source": [
    "def isDone(state):\n",
    "    numZeros = np.sum(state == 0)\n",
    "    if numZeros > 0:\n",
    "        return False\n",
    "    else:\n",
    "        up = nextState(state, 'up')\n",
    "        left = nextState(state, 'left')\n",
    "        return np.all(up == left)"
   ]
  },
  {
   "cell_type": "code",
   "execution_count": null,
   "metadata": {},
   "outputs": [],
   "source": [
    "def playToCompletion(strategy, nGames):\n",
    "    initState = np.array([\n",
    "        [1,0,0,0],\n",
    "        [0,0,0,0],\n",
    "        [0,0,0,0],\n",
    "        [0,0,0,0],\n",
    "    ])\n",
    "    state = np.copy(initState)\n",
    "    record = []\n",
    "    for game in range(nGames):\n",
    "        moveCount = 0\n",
    "        movesTaken = []\n",
    "        while not isDone(state):\n",
    "            move = strategy(state)\n",
    "            newState = nextState(state, move)\n",
    "            if not np.all(newState == state):\n",
    "                state = perturb(newState)\n",
    "                moveCount += 1\n",
    "                movesTaken += [move]\n",
    "        record += [(moveCount, np.max(state))]\n",
    "        state = np.copy(initState)\n",
    "    return record"
   ]
  },
  {
   "cell_type": "code",
   "execution_count": null,
   "metadata": {},
   "outputs": [],
   "source": [
    "def randomStrategy(choices):\n",
    "    def strategy(state):\n",
    "        return np.random.choice(choices)\n",
    "    return strategy"
   ]
  },
  {
   "cell_type": "code",
   "execution_count": null,
   "metadata": {},
   "outputs": [],
   "source": [
    "choiceStrategies = [\n",
    "    ['down', 'left'] * 30 + ['right']*1 + ['up'],\n",
    "    ['down', 'left'] * 30 + ['right']*3 + ['up'],\n",
    "    ['down', 'left'] * 30 + ['right']*10 + ['up'],\n",
    "    ['down', 'left'] * 30 + ['right']*30 + ['up'],\n",
    "    ['down', 'left'] * 30 + ['right']*100 + ['up'],\n",
    "]\n",
    "\n",
    "result = [playToCompletion(randomStrategy(vec), 100) for vec in choiceStrategies]"
   ]
  },
  {
   "cell_type": "code",
   "execution_count": null,
   "metadata": {},
   "outputs": [],
   "source": [
    "plt.figure(figsize=(16,5))\n",
    "for ind, x in enumerate(result):\n",
    "    plt.subplot(151+ind, ylim=(0,60))\n",
    "    plt.hist([score for mvs, score in x])\n",
    "plt.show()"
   ]
  },
  {
   "cell_type": "code",
   "execution_count": null,
   "metadata": {},
   "outputs": [],
   "source": [
    "st = np.array([\n",
    "    [\n",
    "        [1, 0, 1, 0],\n",
    "        [2, 2, 0, 0],\n",
    "        [1, 0, 1, 0],\n",
    "        [2, 2, 0, 0],\n",
    "    ],\n",
    "    [\n",
    "        [1, 1, 1, 1],\n",
    "        [2, 2, 1, 1],\n",
    "        [1, 2, 1, 2],\n",
    "        [2, 2, 1, 1],\n",
    "    ],\n",
    "    [\n",
    "        [1, 2, 3, 2],\n",
    "        [2, 3, 2, 1],\n",
    "        [1, 2, 3, 2],\n",
    "        [2, 3, 2, 1],\n",
    "    ],\n",
    "])"
   ]
  },
  {
   "cell_type": "code",
   "execution_count": null,
   "metadata": {},
   "outputs": [],
   "source": [
    "def rotCWMulti(st): return np.rot90(st, axes=(1,2))\n",
    "def rotCCWMulti(st): return np.rot90(st, axes=(2,1))\n",
    "def flipMulti(st): return np.flip(st, axis=1)\n",
    "\n",
    "movesMulti = {\n",
    "    \"up\": [identity, identity],\n",
    "    \"left\": [rotCCWMulti, rotCWMulti],\n",
    "    \"down\": [flipMulti, flipMulti],\n",
    "    \"right\": [rotCWMulti, rotCCWMulti]\n",
    "}\n",
    "\n",
    "def nextStateMulti(state, move):\n",
    "    transform, invTransform = movesMulti[move]\n",
    "    nst = np.copy(transform(state))\n",
    "    nst = nst[np.indices(nst.shape)[0], np.argsort(nst==0, axis=1), np.indices(nst.shape)[2]]\n",
    "    for ind in range(3):\n",
    "        cmp = (nst[:, ind] == nst[:, ind+1]) * (nst[:, ind] > 0)\n",
    "        nst[:, ind, :] += cmp\n",
    "        nst[:, ind+1, :][cmp] = -1\n",
    "    nst = nst[np.indices(nst.shape)[0], np.argsort(nst==-1, axis=1), np.indices(nst.shape)[2]]\n",
    "    nst[nst==-1] = 0\n",
    "    return invTransform(nst)"
   ]
  },
  {
   "cell_type": "code",
   "execution_count": null,
   "metadata": {},
   "outputs": [],
   "source": [
    "def isFullMulti(state):\n",
    "    nGames = state.shape[0]\n",
    "    return np.sum(state.reshape(nGames, -1) == 0, axis=1) == 0\n",
    "\n",
    "def isDoneMulti(state):\n",
    "    nGames = state.shape[0]\n",
    "    return isFullMulti(state) & np.all((nextStateMulti(state, 'left') == nextStateMulti(state, 'up')).reshape(nGames, -1),\n",
    "                 axis=1)\n",
    "\n",
    "def hasChanged(oldState, newState):\n",
    "    nGames = oldState.shape[0]\n",
    "    return np.invert(np.all((oldState == newState).reshape(nGames, -1), axis=1))"
   ]
  },
  {
   "cell_type": "code",
   "execution_count": null,
   "metadata": {},
   "outputs": [],
   "source": [
    "def perturbMulti(state):\n",
    "    notFull = np.invert(isFullMulti(state))\n",
    "    tmp = state[notFull]\n",
    "    for ind, game in enumerate(tmp):\n",
    "        zeros = np.argwhere(game == 0)\n",
    "        loc = np.random.randint(zeros.shape[0])\n",
    "        row, col = zeros[loc, :]\n",
    "        game[row, col] = 1\n",
    "    state[notFull] = tmp"
   ]
  },
  {
   "cell_type": "code",
   "execution_count": null,
   "metadata": {},
   "outputs": [],
   "source": [
    "def playToCompletionMulti(strategy, nGames, numTurns = 5):\n",
    "    initState = np.array([[\n",
    "        [1,0,0,0],\n",
    "        [0,0,0,0],\n",
    "        [0,0,0,0],\n",
    "        [0,0,0,0],\n",
    "    ]])\n",
    "    state = np.repeat(initState, repeats=nGames, axis=0)\n",
    "    complete = np.repeat(False, repeats=nGames)\n",
    "    moveCount = np.zeros(nGames)\n",
    "    for turn in range(numTurns):\n",
    "        if np.all(complete):\n",
    "            print(turn)\n",
    "            break\n",
    "        incomplete = np.invert(complete)\n",
    "        \n",
    "        liveState = state[incomplete]\n",
    "        movesToMake = strategy(liveState)\n",
    "        for m in ['up', 'left', 'down', 'right']:\n",
    "            gamesToUpdate = movesToMake == m\n",
    "            liveState[gamesToUpdate] = nextStateMulti(liveState[gamesToUpdate], m)\n",
    "            \n",
    "        didChange = hasChanged(state[incomplete], liveState)\n",
    "        if np.any(didChange):\n",
    "            movesMade = np.zeros(np.sum(incomplete))\n",
    "            movesMade[didChange] = 1\n",
    "            moveCount[incomplete] += movesMade\n",
    "            changed = liveState[didChange]\n",
    "            perturbMulti(changed)\n",
    "            liveState[didChange] = changed\n",
    "            state[incomplete] = liveState\n",
    "            complete[incomplete] = isDoneMulti(liveState)\n",
    "    return moveCount, complete, state"
   ]
  },
  {
   "cell_type": "code",
   "execution_count": null,
   "metadata": {},
   "outputs": [],
   "source": [
    "def randomStrategyMulti(choices):\n",
    "    def strategy(state):\n",
    "        return np.random.choice(choices, size=state.shape[0])\n",
    "    return strategy"
   ]
  },
  {
   "cell_type": "code",
   "execution_count": null,
   "metadata": {},
   "outputs": [],
   "source": [
    "moveCounts, complete, finalStates = playToCompletionMulti(randomStrategyMulti(choiceStrategies[3]), 1000, numTurns=10000)"
   ]
  },
  {
   "cell_type": "code",
   "execution_count": null,
   "metadata": {},
   "outputs": [],
   "source": [
    "plt.hist(np.max(finalStates.reshape(1000, -1), axis=1), bins=[0.5,1.5,2.5,3.5,4.5,5.5,6.5,7.5,8.5,9.5,10.5])\n",
    "plt.show()"
   ]
  },
  {
   "cell_type": "code",
   "execution_count": null,
   "metadata": {},
   "outputs": [],
   "source": [
    "finalStates[moveCounts>350]"
   ]
  },
  {
   "cell_type": "code",
   "execution_count": null,
   "metadata": {},
   "outputs": [],
   "source": [
    "import tensorflow as tf\n",
    "from operator import itemgetter"
   ]
  },
  {
   "cell_type": "code",
   "execution_count": null,
   "metadata": {},
   "outputs": [],
   "source": [
    "tf.reset_default_graph()"
   ]
  },
  {
   "cell_type": "code",
   "execution_count": null,
   "metadata": {},
   "outputs": [],
   "source": [
    "inputs = tf.placeholder(shape=(1,4,4,12), dtype=tf.float32)\n",
    "conv1 = tf.layers.conv2d(\n",
    "    inputs=inputs,\n",
    "    filters=48,\n",
    "    kernel_size=[3, 3],\n",
    "    padding=\"same\",\n",
    "    activation=tf.nn.relu\n",
    ")\n",
    "conv1_flat = tf.reshape(conv1, [1, 4*4*48])\n",
    "dense1 = tf.layers.dense(inputs=conv1_flat, units=96, activation=tf.nn.relu)\n",
    "Qout = tf.layers.dense(inputs=dense1, units=4, activation=tf.nn.relu)"
   ]
  },
  {
   "cell_type": "code",
   "execution_count": null,
   "metadata": {},
   "outputs": [],
   "source": [
    "nextQ = tf.placeholder(shape=[1,4], dtype=tf.float32)\n",
    "loss = tf.reduce_sum(tf.square(nextQ - Qout))\n",
    "trainer = tf.train.GradientDescentOptimizer(learning_rate=0.00001)\n",
    "updateModel = trainer.minimize(loss)"
   ]
  },
  {
   "cell_type": "code",
   "execution_count": null,
   "metadata": {},
   "outputs": [],
   "source": [
    "def initState():\n",
    "    return np.array([\n",
    "        [1,0,0,0],\n",
    "        [0,0,0,0],\n",
    "        [0,0,0,0],\n",
    "        [0,0,0,0],\n",
    "    ])\n",
    "\n",
    "def stateToNNInput(s):\n",
    "    return np.eye(12)[s].reshape([1, 4, 4, 12])\n",
    "\n",
    "moveNames = ['up','left','down','right'];\n",
    "\n",
    "def selectMove(state, Q):\n",
    "    allowedMoves = np.array([np.any(state != nextState(state, move)) for move in ['up', 'left', 'down', 'right']])\n",
    "    return np.arange(0, 4)[allowedMoves][np.argmax(Q[allowedMoves])]\n",
    "\n",
    "def randomAction(s):\n",
    "    return selectMove(s, np.random.rand(4))\n",
    "\n",
    "def nextStep(state, action):\n",
    "    newState = nextState(state, moveNames[action])\n",
    "    if np.all(newState == state):\n",
    "        reward = -0.1\n",
    "        return newState, reward, False, True\n",
    "    else:\n",
    "        newState = perturb(newState)\n",
    "    \n",
    "    if isDone(newState):\n",
    "        reward = 2.0 ** np.max(newState)\n",
    "        return newState, reward, True, False\n",
    "    else:\n",
    "        reward = 0.1 * np.sum(newState == 0)\n",
    "        return newState, reward, False, False"
   ]
  },
  {
   "cell_type": "code",
   "execution_count": null,
   "metadata": {},
   "outputs": [],
   "source": [
    "from collections import Counter\n",
    "from IPython import display\n",
    "import time"
   ]
  },
  {
   "cell_type": "code",
   "execution_count": null,
   "metadata": {},
   "outputs": [],
   "source": [
    "y = 0.99\n",
    "e = 0.1\n",
    "num_episodes = 10000\n",
    "jList1 = []\n",
    "rList1 = []\n",
    "topScoringS1 = None\n",
    "topScore1 = 0.0\n",
    "moveIndices = { name: ind for ind, name in enumerate(moveNames)}\n",
    "strategy = randomStrategy([moveIndices[move] for move in choiceStrategies[0]])\n",
    "for i in range(num_episodes):\n",
    "    s = initState()\n",
    "    rAll = 0\n",
    "    d = False\n",
    "    j = 0\n",
    "    actions = []\n",
    "    while j < 2000:\n",
    "        j+=1\n",
    "        a = strategy(s)\n",
    "        if np.random.rand(1) < e: a = randomAction(s)\n",
    "        s1,r,d,f = nextStep(s, a)\n",
    "        actions.append(\"x\" if f else moveNames[a])\n",
    "        rAll += r\n",
    "        if (i+1) % 200 == 0:\n",
    "            display.clear_output(wait=True)\n",
    "            print(\"{}\".format(actions[-1]))\n",
    "            print(s)\n",
    "            print(r, rAll)\n",
    "            time.sleep(0.1)\n",
    "        s = s1\n",
    "        if d == True:\n",
    "            if rAll > 500:\n",
    "                e = 1./((i/50) + 10)\n",
    "            break\n",
    "    if rAll > topScore1:\n",
    "        topScoringS1 = s\n",
    "        topScore1 = rAll\n",
    "    print(\"Episode {} of {}: {}, {}\".format(i, num_episodes, rAll, j), end='\\r')\n",
    "    jList1.append(j)\n",
    "    rList1.append(rAll)\n",
    "    if (i+1) % 50 == 0:\n",
    "        display.clear_output(wait=True)\n",
    "        plt.figure(figsize=(10,5))\n",
    "        plt.subplot(121)\n",
    "        plt.plot(jList1, [np.log2(r) for r in rList1], '.')\n",
    "        plt.subplot(122)\n",
    "        print(topScoringS1)\n",
    "        plt.imshow(topScoringS1)\n",
    "        plt.show()"
   ]
  }
 ],
 "metadata": {
  "kernelspec": {
   "display_name": "Python 3",
   "language": "python",
   "name": "python3"
  },
  "language_info": {
   "codemirror_mode": {
    "name": "ipython",
    "version": 3
   },
   "file_extension": ".py",
   "mimetype": "text/x-python",
   "name": "python",
   "nbconvert_exporter": "python",
   "pygments_lexer": "ipython3",
   "version": "3.7.4"
  }
 },
 "nbformat": 4,
 "nbformat_minor": 2
}
