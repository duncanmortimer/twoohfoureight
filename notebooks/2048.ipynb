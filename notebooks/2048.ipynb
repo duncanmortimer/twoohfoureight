{
 "cells": [
  {
   "cell_type": "code",
   "execution_count": 70,
   "metadata": {},
   "outputs": [
    {
     "name": "stdout",
     "output_type": "stream",
     "text": [
      "The autoreload extension is already loaded. To reload it, use:\n",
      "  %reload_ext autoreload\n"
     ]
    }
   ],
   "source": [
    "%load_ext autoreload\n",
    "%autoreload 2"
   ]
  },
  {
   "cell_type": "code",
   "execution_count": 71,
   "metadata": {},
   "outputs": [],
   "source": [
    "import sys\n",
    "sys.path.append(\"/workspaces/twoohfoureight/src\")"
   ]
  },
  {
   "cell_type": "code",
   "execution_count": 72,
   "metadata": {},
   "outputs": [],
   "source": [
    "import numpy as np\n",
    "import matplotlib as mpl\n",
    "import matplotlib.pyplot as plt\n",
    "from collections import Counter\n",
    "from IPython import display\n",
    "import time"
   ]
  },
  {
   "cell_type": "code",
   "execution_count": 73,
   "metadata": {},
   "outputs": [],
   "source": [
    "import ipywidgets as widgets"
   ]
  },
  {
   "cell_type": "code",
   "execution_count": 74,
   "metadata": {},
   "outputs": [],
   "source": [
    "import game.rules as rules\n",
    "from game.rules import (UP, LEFT, DOWN, RIGHT)\n",
    "import game.multi as multi\n",
    "import game.strategies as strategies"
   ]
  },
  {
   "cell_type": "markdown",
   "metadata": {},
   "source": [
    "## Baseline random strategies"
   ]
  },
  {
   "cell_type": "markdown",
   "metadata": {},
   "source": [
    "First, we'll try some random strategies to get a baseline for performance on the 2048 game.  It's typically a good strategy in 2048 to 'break symmetry', and as much as possible, make moves that favour moving towards one corner.  These strategies favour moving DOWN and LEFT, and we play 100 games to completion (i.e. until there are no valid remaining moves) with each."
   ]
  },
  {
   "cell_type": "code",
   "execution_count": 76,
   "metadata": {},
   "outputs": [
    {
     "data": {
      "application/vnd.jupyter.widget-view+json": {
       "model_id": "1cb30d5e854b4076908dcdf535ac3262",
       "version_major": 2,
       "version_minor": 0
      },
      "text/plain": [
       "FloatProgress(value=0.0, max=500.0)"
      ]
     },
     "metadata": {},
     "output_type": "display_data"
    }
   ],
   "source": [
    "choice_strategies = [\n",
    "    [DOWN, LEFT] * 30 + [RIGHT]*1 + [UP],\n",
    "    [DOWN, LEFT] * 30 + [RIGHT]*3 + [UP],    \n",
    "    [DOWN, LEFT] * 30 + [RIGHT]*10 + [UP],\n",
    "    [DOWN, LEFT] * 30 + [RIGHT]*30 + [UP],\n",
    "]\n",
    "\n",
    "n_games = 500\n",
    "progress_bar = widgets.FloatProgress(max=n_games)\n",
    "def update_progress_bar(n_game): progress_bar.value = n_game+1\n",
    "\n",
    "display.display(progress_bar)\n",
    "    \n",
    "result = [\n",
    "    rules.play_to_completion(strategies.random_strategy(vec), n_games, progress_callback=update_progress_bar)\n",
    "    for vec in choice_strategies\n",
    "]"
   ]
  },
  {
   "cell_type": "markdown",
   "metadata": {},
   "source": [
    "The following histograms show the distribution of the highest scoring cell across the 500 games for each strategy. The best performing strategy appears to be the first, with DOWN and LEFT moves outnumbering RIGHT and UP moves by 30 to 1, but there's not much in it. None of these baseline strategies are able to get a $2^{10} =  1024$ cell."
   ]
  },
  {
   "cell_type": "code",
   "execution_count": 7,
   "metadata": {},
   "outputs": [
    {
     "data": {
      "image/png": "[encoded data removed]",
      "text/plain": [
       "<Figure size 1152x216 with 4 Axes>"
      ]
     },
     "metadata": {
      "needs_background": "light"
     },
     "output_type": "display_data"
    }
   ],
   "source": [
    "plt.figure(figsize=(16,3))\n",
    "for ind, x in enumerate(result):\n",
    "    plt.subplot(151+ind, xlim=(4,10), ylim=(0,30))\n",
    "    plt.hist([score for mvs, score in x], bins=[0.5,1.5,2.5,3.5,4.5,5.5,6.5,7.5,8.5,9.5,10.5])\n",
    "plt.show()"
   ]
  },
  {
   "cell_type": "markdown",
   "metadata": {},
   "source": [
    "In the interest of speeding up the evaluation of a strategy, the `game.multi` package takes advantage of numpy vectorisation to play multiple games 'at once'. The 'multi' game state with $n$ games is represented by an $n \\times 4 \\times 4$ numpy array."
   ]
  },
  {
   "cell_type": "code",
   "execution_count": 8,
   "metadata": {},
   "outputs": [],
   "source": [
    "def random_strategy_multi(choices):\n",
    "    def strategy(state):\n",
    "        return np.random.choice(choices, size=state.shape[0])\n",
    "    return strategy"
   ]
  },
  {
   "cell_type": "code",
   "execution_count": 10,
   "metadata": {},
   "outputs": [
    {
     "data": {
      "application/vnd.jupyter.widget-view+json": {
       "model_id": "b63c8ae421f944c0b4f68551023442c4",
       "version_major": 2,
       "version_minor": 0
      },
      "text/plain": [
       "FloatProgress(value=0.0, max=2000.0)"
      ]
     },
     "metadata": {},
     "output_type": "display_data"
    },
    {
     "name": "stdout",
     "output_type": "stream",
     "text": [
      "all games complete after 1790 turns\n"
     ]
    }
   ],
   "source": [
    "n_games = 2000\n",
    "progress_bar = widgets.FloatProgress(max=n_games)\n",
    "\n",
    "def update_progress_bar(n_complete): progress_bar.value = n_complete+1\n",
    "\n",
    "display(progress_bar)\n",
    "\n",
    "move_counts, complete, final_states = multi.play_to_completion(\n",
    "    random_strategy_multi(choice_strategies[0]), n_games, max_turns=10000,\n",
    "    progress_callback=update_progress_bar\n",
    ")"
   ]
  },
  {
   "cell_type": "code",
   "execution_count": 11,
   "metadata": {},
   "outputs": [
    {
     "data": {
      "image/png": "[encoded data removed]",
      "text/plain": [
       "<Figure size 432x288 with 1 Axes>"
      ]
     },
     "metadata": {
      "needs_background": "light"
     },
     "output_type": "display_data"
    }
   ],
   "source": [
    "plt.subplot(111, xlim=(4,10), ylim=(0,1200))\n",
    "plt.hist(np.max(final_states.reshape(2000, -1), axis=1), bins=[0.5,1.5,2.5,3.5,4.5,5.5,6.5,7.5,8.5,9.5,10.5])\n",
    "plt.show()"
   ]
  },
  {
   "cell_type": "code",
   "execution_count": 12,
   "metadata": {},
   "outputs": [
    {
     "data": {
      "text/plain": [
       "<matplotlib.collections.PathCollection at 0x7f9dc8b02d10>"
      ]
     },
     "execution_count": 12,
     "metadata": {},
     "output_type": "execute_result"
    },
    {
     "data": {
      "image/png": "[encoded data removed]",
      "text/plain": [
       "<Figure size 432x288 with 1 Axes>"
      ]
     },
     "metadata": {
      "needs_background": "light"
     },
     "output_type": "display_data"
    }
   ],
   "source": [
    "plt.scatter(move_counts, np.max(final_states.reshape(2000, -1), axis=1))"
   ]
  },
  {
   "cell_type": "markdown",
   "metadata": {},
   "source": [
    "## Trying to do better with reinforcement learning"
   ]
  },
  {
   "cell_type": "code",
   "execution_count": 14,
   "metadata": {},
   "outputs": [],
   "source": [
    "import tensorflow as tf\n",
    "from operator import itemgetter"
   ]
  },
  {
   "cell_type": "markdown",
   "metadata": {},
   "source": [
    "We'll use a very simple 2 layer network to start with:\n",
    "\n",
    "- one-hot encoding for the game board\n",
    "- feeding into a $4 \\times 4 \\times 48$ convolutional layer, with $3 \\times 3$ kernel and relu activation\n",
    "- feeding into a $96$ unit dense layer, also relu\n",
    "- feeding into a $4$ unit output layer, where each output unit represents one of the possible moves (UP, LEFT, DOWN, RIGHT)"
   ]
  },
  {
   "cell_type": "code",
   "execution_count": 57,
   "metadata": {},
   "outputs": [],
   "source": [
    "model = tf.keras.models.Sequential([\n",
    "    tf.keras.layers.Conv2D(48, (2, 2), padding=\"valid\", activation=\"relu\", input_shape=(4,4,12)),\n",
    "#     tf.keras.layers.Conv2D(48, (3, 3), padding=\"valid\", activation=\"relu\"),    \n",
    "    tf.keras.layers.Flatten(),\n",
    "    tf.keras.layers.Dense(96, activation=\"relu\"),\n",
    "    tf.keras.layers.Dense(4, activation=\"relu\")\n",
    "])\n",
    "sgd = tf.keras.optimizers.SGD(lr=1e-4)\n",
    "model.compile(loss=\"mse\", optimizer=sgd)"
   ]
  },
  {
   "cell_type": "markdown",
   "metadata": {},
   "source": [
    "Some helper functions to make moves based on expected reward ($Q$)"
   ]
  },
  {
   "cell_type": "code",
   "execution_count": null,
   "metadata": {},
   "outputs": [],
   "source": [
    "def init_state():\n",
    "    return np.array([\n",
    "        [1,0,0,0],\n",
    "        [0,0,0,0],\n",
    "        [0,0,0,0],\n",
    "        [0,0,0,0],\n",
    "    ])\n",
    "\n",
    "def state_to_nn_input(s):\n",
    "    return np.eye(12)[s].reshape([1, 4, 4, 12])\n",
    "\n",
    "move_names = [UP, LEFT, DOWN, RIGHT];\n",
    "\n",
    "def select_move(state, Q):\n",
    "    allowed_moves = np.array([np.any(state != rules.next_state(state, move)) for move in move_names])\n",
    "    return np.arange(0, 4)[allowed_moves][np.argmax(Q[allowed_moves])]\n",
    "\n",
    "def random_action(s):\n",
    "    return select_move(s, np.random.rand(4))"
   ]
  },
  {
   "cell_type": "markdown",
   "metadata": {},
   "source": [
    "Update state, and return the reward for the action (along with whether the action was successful, and whether the game is over)"
   ]
  },
  {
   "cell_type": "code",
   "execution_count": 60,
   "metadata": {},
   "outputs": [],
   "source": [
    "def next_step(state, action):\n",
    "    new_state = rules.next_state(state, move_names[action])\n",
    "    if np.all(new_state == state):\n",
    "        reward = 0\n",
    "        return new_state, reward, False, True\n",
    "    else:\n",
    "        new_state = rules.perturb(new_state)\n",
    "        if np.random.rand(1) < 0.1:\n",
    "            new_state = rules.rotCW(new_state)\n",
    "    \n",
    "    if rules.is_done(new_state):\n",
    "        reward = np.sum(3.0 ** new_state)\n",
    "        return new_state, reward, True, False\n",
    "    else:\n",
    "        reward = 0.1 * np.sum(new_state == 0)\n",
    "        return new_state, reward, False, False"
   ]
  },
  {
   "cell_type": "markdown",
   "metadata": {},
   "source": [
    "Play lots of games; try to train a model!"
   ]
  },
  {
   "cell_type": "code",
   "execution_count": 68,
   "metadata": {},
   "outputs": [
    {
     "name": "stdout",
     "output_type": "stream",
     "text": [
      "[[2 1 2 3]\n",
      " [4 5 3 2]\n",
      " [2 7 9 5]\n",
      " [1 4 3 1]]\n",
      "0.004950985246063967\n"
     ]
    },
    {
     "data": {
      "image/png": "[encoded data removed]",
      "text/plain": [
       "<Figure size 720x360 with 2 Axes>"
      ]
     },
     "metadata": {
      "needs_background": "light"
     },
     "output_type": "display_data"
    }
   ],
   "source": [
    "e = 0.5 # ε for ε-greedy policy\n",
    "y = 0.99 # Temporal discount factor\n",
    "num_episodes = 10000\n",
    "j_list = [] # Number of turns per game\n",
    "r_list = [] # final total score per game\n",
    "top_scoring_S = None # Final state in current top-scoring game\n",
    "top_score = 0.0 # current best score\n",
    "move_indices = { name: ind for ind, name in enumerate(move_names)}\n",
    "for episode in range(num_episodes):\n",
    "    s = init_state()\n",
    "    r_all = 0\n",
    "    done = False\n",
    "    move = 0\n",
    "    actions = []\n",
    "    while move < 2000:\n",
    "        move += 1\n",
    "        # Get the model estimate of the expected reward based on the current state\n",
    "        R_current = model.predict(state_to_nn_input(s))[0]\n",
    "        \n",
    "        # Use an ε-greedy policy for action selection\n",
    "        if np.random.rand(1) < e:\n",
    "            a = random_action(s)\n",
    "        else:\n",
    "            a = select_move(s, R_current)\n",
    "        s1,r,done,no_move = next_step(s, a)\n",
    "        \n",
    "        # Update the model\n",
    "        R_new = model.predict(state_to_nn_input(s1))[0]\n",
    "        target = r + y * np.max(R_new)\n",
    "        R_target = np.array(R_current)\n",
    "        R_target[a] = target\n",
    "        model.fit(state_to_nn_input(s), R_target.reshape(-1, 4), epochs=1, verbose=0)\n",
    "        \n",
    "        # Remember the actions taken\n",
    "        actions.append(\"x\" if no_move else move_names[a])\n",
    "        r_all += r\n",
    "#         if (episode+1) % 10 == 0:\n",
    "#             display.clear_output(wait=True)\n",
    "#             print(\"{}\".format(actions[-1]))\n",
    "#             print(s)\n",
    "#             print(r, r_all)\n",
    "#             time.sleep(0.2)\n",
    "        s = s1\n",
    "    \n",
    "        # Reduce e\n",
    "        if done == True:\n",
    "            if r_all > 500:\n",
    "                e = 1./((episode/50) + 2)\n",
    "            break\n",
    "    if r_all > top_score:\n",
    "        top_scoring_s = s\n",
    "        top_score = r_all\n",
    "    print(f\"Episode {episode} of {num_episodes}: {r_all}, {move}{' '*100}\", end='\\r')\n",
    "    j_list.append(move)\n",
    "    r_list.append(r_all)\n",
    "    if (episode+1) % 50 == 0:\n",
    "        display.clear_output(wait=True)\n",
    "        plt.figure(figsize=(10,5))\n",
    "        plt.subplot(121)\n",
    "        plt.plot(j_list, [np.log2(r) for r in r_list], '.')\n",
    "        plt.plot(j_list[-20:], [np.log2(r) for r in r_list[-20:]], 'r.')          \n",
    "        plt.subplot(122)\n",
    "        print(top_scoring_s)\n",
    "        print(e)\n",
    "        plt.imshow(top_scoring_s)\n",
    "        plt.show()"
   ]
  }
 ],
 "metadata": {
  "kernelspec": {
   "display_name": "Python 3",
   "language": "python",
   "name": "python3"
  },
  "language_info": {
   "codemirror_mode": {
    "name": "ipython",
    "version": 3
   },
   "file_extension": ".py",
   "mimetype": "text/x-python",
   "name": "python",
   "nbconvert_exporter": "python",
   "pygments_lexer": "ipython3",
   "version": "3.7.4"
  }
 },
 "nbformat": 4,
 "nbformat_minor": 2
}
